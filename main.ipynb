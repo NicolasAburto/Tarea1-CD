{
 "cells": [
  {
   "cell_type": "code",
   "execution_count": 33,
   "metadata": {},
   "outputs": [
    {
     "name": "stdout",
     "output_type": "stream",
     "text": [
      "8\n"
     ]
    }
   ],
   "source": [
    "########################################### Descripción del proyecto: ###########################################\n",
    "#   Programa en Python que simula una carrera de caballos.\n",
    "#   Descipción:\n",
    "#    -\n",
    "#\n",
    "#   Autores:\n",
    "#       - José Avilán (https://github.com/JoseAvilan)\n",
    "#       - Nicolas Aburto (https://github.com/NicolasAburto)\n",
    "#       - Franco Avilés (https://github.com/FrancoAv1)\n",
    "#\n",
    "#   Licencia:\n",
    "#       - Abril 2022. Apache 2.0.\n",
    "#\n",
    "#################################################################################################################\n",
    "\n",
    "\n",
    "\n",
    "import random\n",
    "\n",
    "caballo1 = [1,2,3,4,5,6,7,8]\n",
    "\n",
    "\n",
    "print(random.randrange(1, 10))\n"
   ]
  }
 ],
 "metadata": {
  "interpreter": {
   "hash": "6f73098c068bbd968f55ff8195ff10948196d731db530477edaf74c996e4c310"
  },
  "kernelspec": {
   "display_name": "Python 3.10.4 64-bit",
   "language": "python",
   "name": "python3"
  },
  "language_info": {
   "codemirror_mode": {
    "name": "ipython",
    "version": 3
   },
   "file_extension": ".py",
   "mimetype": "text/x-python",
   "name": "python",
   "nbconvert_exporter": "python",
   "pygments_lexer": "ipython3",
   "version": "3.10.4"
  },
  "orig_nbformat": 4
 },
 "nbformat": 4,
 "nbformat_minor": 2
}
