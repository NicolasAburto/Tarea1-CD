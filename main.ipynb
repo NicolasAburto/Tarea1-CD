{
 "cells": [
  {
   "cell_type": "code",
   "execution_count": 14,
   "metadata": {},
   "outputs": [],
   "source": [
    "########################################### Descripción del proyecto: ###########################################\n",
    "#   Programa en Python que simula una carrera de caballos.\n",
    "#   Descipción:\n",
    "#    - Se creara \n",
    "#\n",
    "#   Autores:\n",
    "#       - José Avilán (https://github.com/JoseAvilan)\n",
    "#       - Nicolas Aburto (https://github.com/NicolasAburto)\n",
    "#       - Franco Avilés (https://github.com/FrancoAv1)\n",
    "#\n",
    "#   Licencia:\n",
    "#       - Abril 2022. Apache 2.0.\n",
    "#\n",
    "#################################################################################################################\n",
    "import random\n",
    "\n",
    "caballo1 = 0\n",
    "caballo2 = 0\n",
    "\n",
    "opcion = input()\n",
    "\n",
    "while caballo1 < 10 and caballo2 < 10:\n",
    "\n",
    "    caballo1 += random.randrange(1, 10)\n",
    "    caballo2 += random.randrange(1, 10)\n",
    "        \n",
    "    \n",
    "    # print(\"Caballo 1: \" + str(caballo1))\n",
    "    # print(\"Caballo 2: \" + str(caballo2)) \n",
    "\n",
    "if opcion == '1' and caballo1 > 9:\n",
    "    print(\"Caballo 1 Ganador\")\n",
    "    \n",
    "if opcion == '2' and caballo2 > 9:\n",
    "    print(\"Caballo 2 Ganador\")    \n",
    "\n"
   ]
  }
 ],
 "metadata": {
  "interpreter": {
   "hash": "6f73098c068bbd968f55ff8195ff10948196d731db530477edaf74c996e4c310"
  },
  "kernelspec": {
   "display_name": "Python 3.10.4 64-bit",
   "language": "python",
   "name": "python3"
  },
  "language_info": {
   "codemirror_mode": {
    "name": "ipython",
    "version": 3
   },
   "file_extension": ".py",
   "mimetype": "text/x-python",
   "name": "python",
   "nbconvert_exporter": "python",
   "pygments_lexer": "ipython3",
   "version": "3.9.10"
  },
  "orig_nbformat": 4
 },
 "nbformat": 4,
 "nbformat_minor": 2
}
