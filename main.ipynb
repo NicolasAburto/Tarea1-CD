{
 "cells": [
  {
   "cell_type": "code",
   "execution_count": 72,
   "metadata": {},
   "outputs": [
    {
     "name": "stdout",
     "output_type": "stream",
     "text": [
      "Caballo 1: 8\n",
      "Caballo 2: 4\n",
      "Caballo 1: 12\n",
      "Caballo 2: 7\n",
      "Caballo 1: 21\n",
      "Caballo 2: 15\n",
      "Caballo 1: 28\n",
      "Caballo 2: 17\n",
      "Caballo 1: 34\n",
      "Caballo 2: 25\n",
      "Caballo 1: 37\n",
      "Caballo 2: 32\n",
      "Caballo 1: 41\n",
      "Caballo 2: 39\n",
      "Caballo 1: 42\n",
      "Caballo 2: 41\n",
      "Caballo 1: 45\n",
      "Caballo 2: 50\n",
      "Caballo 1: 48\n",
      "Caballo 2: 58\n",
      "Caballo 1: 52\n",
      "Caballo 2: 62\n",
      "Caballo 1: 55\n",
      "Caballo 2: 69\n",
      "Caballo 1: 57\n",
      "Caballo 2: 70\n",
      "Caballo 1: 64\n",
      "Caballo 2: 76\n",
      "Caballo 1: 73\n",
      "Caballo 2: 79\n",
      "Caballo 1: 75\n",
      "Caballo 2: 81\n",
      "Caballo 1: 84\n",
      "Caballo 2: 88\n",
      "Caballo 1: 88\n",
      "Caballo 2: 90\n",
      "Caballo 1: 90\n",
      "Caballo 2: 93\n",
      "Caballo 1: 95\n",
      "Caballo 2: 96\n",
      "Caballo 1: 96\n",
      "Caballo 2: 102\n"
     ]
    }
   ],
   "source": [
    "########################################### Descripción del proyecto: ###########################################\n",
    "#   Programa en Python que simula una carrera de caballos.\n",
    "#   Descipción:\n",
    "#    - Se creara \n",
    "#\n",
    "#   Autores:\n",
    "#       - José Avilán (https://github.com/JoseAvilan)\n",
    "#       - Nicolas Aburto (https://github.com/NicolasAburto)\n",
    "#       - Franco Avilés (https://github.com/FrancoAv1)\n",
    "#\n",
    "#   Licencia:\n",
    "#       - Abril 2022. Apache 2.0.\n",
    "#\n",
    "#################################################################################################################\n",
    "\n",
    "import random\n",
    "\n",
    "caballo1 = 0\n",
    "caballo2 = 0\n",
    "\n",
    "while caballo1 < 100 and caballo2 < 100:\n",
    "    caballo1 += random.randrange(1, 10)\n",
    "    caballo2 += random.randrange(1, 10)\n",
    "    print(\"Caballo 1: \" + str(caballo1))\n",
    "    print(\"Caballo 2: \" + str(caballo2))\n",
    "        \n",
    "\n",
    "\n",
    "\n",
    "\n",
    "\n",
    "\n"
   ]
  }
 ],
 "metadata": {
  "interpreter": {
   "hash": "6f73098c068bbd968f55ff8195ff10948196d731db530477edaf74c996e4c310"
  },
  "kernelspec": {
   "display_name": "Python 3.10.4 64-bit",
   "language": "python",
   "name": "python3"
  },
  "language_info": {
   "codemirror_mode": {
    "name": "ipython",
    "version": 3
   },
   "file_extension": ".py",
   "mimetype": "text/x-python",
   "name": "python",
   "nbconvert_exporter": "python",
   "pygments_lexer": "ipython3",
   "version": "3.10.4"
  },
  "orig_nbformat": 4
 },
 "nbformat": 4,
 "nbformat_minor": 2
}
