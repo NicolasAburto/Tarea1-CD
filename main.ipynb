{
 "cells": [
  {
   "cell_type": "code",
   "execution_count": 74,
   "metadata": {},
   "outputs": [
    {
     "name": "stdout",
     "output_type": "stream",
     "text": [
      "Caballo 1: 1\n",
      "Caballo 2: 6\n",
      "Caballo 1: 3\n",
      "Caballo 2: 12\n",
      "Caballo 1: 8\n",
      "Caballo 2: 15\n",
      "Caballo 1: 17\n",
      "Caballo 2: 21\n",
      "Caballo 1: 19\n",
      "Caballo 2: 29\n",
      "Caballo 1: 25\n",
      "Caballo 2: 38\n",
      "Caballo 1: 32\n",
      "Caballo 2: 47\n",
      "Caballo 1: 35\n",
      "Caballo 2: 52\n",
      "Caballo 1: 37\n",
      "Caballo 2: 59\n",
      "Caballo 1: 43\n",
      "Caballo 2: 60\n",
      "Caballo 1: 45\n",
      "Caballo 2: 67\n",
      "Caballo 1: 52\n",
      "Caballo 2: 74\n",
      "Caballo 1: 61\n",
      "Caballo 2: 80\n",
      "Caballo 1: 62\n",
      "Caballo 2: 81\n",
      "Caballo 1: 63\n",
      "Caballo 2: 86\n",
      "Caballo 1: 68\n",
      "Caballo 2: 92\n",
      "Caballo 1: 70\n",
      "Caballo 2: 98\n",
      "Caballo 1: 79\n",
      "Caballo 2: 99\n",
      "Caballo 1: 81\n",
      "Caballo 2: 104\n"
     ]
    }
   ],
   "source": [
    "########################################### Descripción del proyecto: ###########################################\n",
    "#   Programa en Python que simula una carrera de caballos.\n",
    "#   Descipción:\n",
    "#    - Se creara \n",
    "#\n",
    "#   Autores:\n",
    "#       - José Avilán (https://github.com/JoseAvilan)\n",
    "#       - Nicolas Aburto (https://github.com/NicolasAburto)\n",
    "#       - Franco Avilés (https://github.com/FrancoAv1)\n",
    "#\n",
    "#   Licencia:\n",
    "#       - Abril 2022. Apache 2.0.\n",
    "#\n",
    "#################################################################################################################\n",
    "\n",
    "import random\n",
    "\n",
    "caballo1 = 0\n",
    "caballo2 = 0\n",
    "\n",
    "while caballo1 < 100 and caballo2 < 100:\n",
    "    caballo1 += random.randrange(1, 10)\n",
    "    caballo2 += random.randrange(1, 10)\n",
    "    print(\"Caballo 1: \" + str(caballo1))\n",
    "    print(\"Caballo 2: \" + str(caballo2))        \n"
   ]
  }
 ],
 "metadata": {
  "interpreter": {
   "hash": "6f73098c068bbd968f55ff8195ff10948196d731db530477edaf74c996e4c310"
  },
  "kernelspec": {
   "display_name": "Python 3.10.4 64-bit",
   "language": "python",
   "name": "python3"
  },
  "language_info": {
   "codemirror_mode": {
    "name": "ipython",
    "version": 3
   },
   "file_extension": ".py",
   "mimetype": "text/x-python",
   "name": "python",
   "nbconvert_exporter": "python",
   "pygments_lexer": "ipython3",
   "version": "3.10.4"
  },
  "orig_nbformat": 4
 },
 "nbformat": 4,
 "nbformat_minor": 2
}
